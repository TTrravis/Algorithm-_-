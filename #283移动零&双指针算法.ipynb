{
 "cells": [
  {
   "cell_type": "markdown",
   "metadata": {},
   "source": [
    "# 283.移动零\n",
    "> 给定一个数组 nums，编写一个函数将所有 0 移动到数组的末尾，同时保持非零元素的相对顺序。\n",
    "> 请注意 ，必须在不复制数组的情况下原地对数组进行操作。"
   ]
  },
  {
   "cell_type": "markdown",
   "metadata": {},
   "source": [
    "#### Solution."
   ]
  },
  {
   "cell_type": "code",
   "execution_count": null,
   "metadata": {},
   "outputs": [],
   "source": [
    "#暴力穷举\n",
    "class Solution:\n",
    "    def moveZeroes(self, nums: List[int]) -> None:\n",
    "        \"\"\"\n",
    "        Do not return anything, modify nums in-place instead.\n",
    "        \"\"\"\n",
    "        length=len(nums)\n",
    "        for i in range(0,length):\n",
    "            if nums[i]==0:\n",
    "                nums.remove(nums[i])\n",
    "                nums.append(0)\n",
    "        return nums\n",
    "#酱紫时间复杂度很高，代码效率很低"
   ]
  },
  {
   "cell_type": "code",
   "execution_count": 1,
   "metadata": {},
   "outputs": [
    {
     "ename": "NameError",
     "evalue": "name 'List' is not defined",
     "output_type": "error",
     "traceback": [
      "\u001b[1;31m---------------------------------------------------------------------------\u001b[0m",
      "\u001b[1;31mNameError\u001b[0m                                 Traceback (most recent call last)",
      "\u001b[1;32mUntitled-1.ipynb Cell 4\u001b[0m in \u001b[0;36m<module>\u001b[1;34m\u001b[0m\n\u001b[0;32m      <a href='vscode-notebook-cell:Untitled-1.ipynb?jupyter-notebook#ch0000004untitled?line=1'>2</a>\u001b[0m \u001b[39m'''\u001b[39;00m\n\u001b[0;32m      <a href='vscode-notebook-cell:Untitled-1.ipynb?jupyter-notebook#ch0000004untitled?line=2'>3</a>\u001b[0m \u001b[39m定义一个指针current,一个指针lastnotzero;\u001b[39;00m\n\u001b[0;32m      <a href='vscode-notebook-cell:Untitled-1.ipynb?jupyter-notebook#ch0000004untitled?line=3'>4</a>\u001b[0m \u001b[39m前者表示当前元素的位置，后者表示在当前元素之前可以确定的最后一个*非零元素*的下一个位置\u001b[39;00m\n\u001b[0;32m      <a href='vscode-notebook-cell:Untitled-1.ipynb?jupyter-notebook#ch0000004untitled?line=4'>5</a>\u001b[0m \u001b[39m两个指针的初始值都是0，只要遍历判断到当前元素非零，就将值赋给lastnotzero指针所指向的位置，将0赋给current指针所指的元素\u001b[39;00m\n\u001b[0;32m      <a href='vscode-notebook-cell:Untitled-1.ipynb?jupyter-notebook#ch0000004untitled?line=5'>6</a>\u001b[0m \u001b[39m这样就完成了交换\u001b[39;00m\n\u001b[0;32m      <a href='vscode-notebook-cell:Untitled-1.ipynb?jupyter-notebook#ch0000004untitled?line=6'>7</a>\u001b[0m \u001b[39m需要注意一点：给current指针所指元素赋值之前，先判断两个指针指向的是不是同一位置，相同则不能赋值0'''\u001b[39;00m\n\u001b[0;32m      <a href='vscode-notebook-cell:Untitled-1.ipynb?jupyter-notebook#ch0000004untitled?line=7'>8</a>\u001b[0m \u001b[39m#代码实现\u001b[39;00m\n\u001b[1;32m----> <a href='vscode-notebook-cell:Untitled-1.ipynb?jupyter-notebook#ch0000004untitled?line=8'>9</a>\u001b[0m \u001b[39mclass\u001b[39;00m \u001b[39mSolution\u001b[39;00m:\n\u001b[0;32m     <a href='vscode-notebook-cell:Untitled-1.ipynb?jupyter-notebook#ch0000004untitled?line=9'>10</a>\u001b[0m     \u001b[39mdef\u001b[39;00m \u001b[39mmoveZeroes\u001b[39m(\u001b[39mself\u001b[39m, nums: List[\u001b[39mint\u001b[39m]) \u001b[39m-\u001b[39m\u001b[39m>\u001b[39m \u001b[39mNone\u001b[39;00m:\n\u001b[0;32m     <a href='vscode-notebook-cell:Untitled-1.ipynb?jupyter-notebook#ch0000004untitled?line=10'>11</a>\u001b[0m         \u001b[39m\"\"\"\u001b[39;00m\n\u001b[0;32m     <a href='vscode-notebook-cell:Untitled-1.ipynb?jupyter-notebook#ch0000004untitled?line=11'>12</a>\u001b[0m \u001b[39m        Do not return anything, modify nums in-place instead.\u001b[39;00m\n\u001b[0;32m     <a href='vscode-notebook-cell:Untitled-1.ipynb?jupyter-notebook#ch0000004untitled?line=12'>13</a>\u001b[0m \u001b[39m        \"\"\"\u001b[39;00m\n",
      "\u001b[1;32mUntitled-1.ipynb Cell 4\u001b[0m in \u001b[0;36mSolution\u001b[1;34m()\u001b[0m\n\u001b[0;32m      <a href='vscode-notebook-cell:Untitled-1.ipynb?jupyter-notebook#ch0000004untitled?line=8'>9</a>\u001b[0m \u001b[39mclass\u001b[39;00m \u001b[39mSolution\u001b[39;00m:\n\u001b[1;32m---> <a href='vscode-notebook-cell:Untitled-1.ipynb?jupyter-notebook#ch0000004untitled?line=9'>10</a>\u001b[0m     \u001b[39mdef\u001b[39;00m \u001b[39mmoveZeroes\u001b[39m(\u001b[39mself\u001b[39m, nums: List[\u001b[39mint\u001b[39m]) \u001b[39m-\u001b[39m\u001b[39m>\u001b[39m \u001b[39mNone\u001b[39;00m:\n\u001b[0;32m     <a href='vscode-notebook-cell:Untitled-1.ipynb?jupyter-notebook#ch0000004untitled?line=10'>11</a>\u001b[0m         \u001b[39m\"\"\"\u001b[39;00m\n\u001b[0;32m     <a href='vscode-notebook-cell:Untitled-1.ipynb?jupyter-notebook#ch0000004untitled?line=11'>12</a>\u001b[0m \u001b[39m        Do not return anything, modify nums in-place instead.\u001b[39;00m\n\u001b[0;32m     <a href='vscode-notebook-cell:Untitled-1.ipynb?jupyter-notebook#ch0000004untitled?line=12'>13</a>\u001b[0m \u001b[39m        \"\"\"\u001b[39;00m\n\u001b[0;32m     <a href='vscode-notebook-cell:Untitled-1.ipynb?jupyter-notebook#ch0000004untitled?line=13'>14</a>\u001b[0m         lastnotzero\u001b[39m=\u001b[39m\u001b[39m0\u001b[39m\n",
      "\u001b[1;31mNameError\u001b[0m: name 'List' is not defined"
     ]
    }
   ],
   "source": [
    "#这是一道快慢指针算法题\n",
    "'''\n",
    "定义一个指针current,一个指针lastnotzero;\n",
    "前者表示当前元素的位置，后者表示在当前元素之前可以确定的最后一个*非零元素*的下一个位置\n",
    "两个指针的初始值都是0，只要遍历判断到当前元素非零，就将值赋给lastnotzero指针所指向的位置，将0赋给current指针所指的元素\n",
    "这样就完成了交换\n",
    "需要注意一点：给current指针所指元素赋值之前，先判断两个指针指向的是不是同一位置，相同则不能赋值0'''\n",
    "#代码实现\n",
    "class Solution:\n",
    "    def moveZeroes(self, nums: List[int]) -> None:\n",
    "        \"\"\"\n",
    "        Do not return anything, modify nums in-place instead.\n",
    "        \"\"\"\n",
    "        lastnotzero=0\n",
    "        for current in range(0,len(nums)):\n",
    "            if nums[current] != 0:\n",
    "                nums[lastnotzero] = nums[current]\n",
    "            if lastnotzero != current:\n",
    "                nums[current]=0\n",
    "            lastnotzero+=1\n",
    "        return nums\n",
    "#另一种双指针算法\n",
    "class Solution:\n",
    "    def moveZeroes(self, nums: List[int]) -> None:\n",
    "        n = len(nums)\n",
    "        left = right = 0\n",
    "        while right < n:\n",
    "            if nums[right] != 0:\n",
    "                nums[left], nums[right] = nums[right], nums[left]\n",
    "                left += 1\n",
    "            right += 1  "
   ]
  }
 ],
 "metadata": {
  "kernelspec": {
   "display_name": "Python 3.10.5 64-bit (windows store)",
   "language": "python",
   "name": "python3"
  },
  "language_info": {
   "codemirror_mode": {
    "name": "ipython",
    "version": 3
   },
   "file_extension": ".py",
   "mimetype": "text/x-python",
   "name": "python",
   "nbconvert_exporter": "python",
   "pygments_lexer": "ipython3",
   "version": "3.10.5"
  },
  "orig_nbformat": 4,
  "vscode": {
   "interpreter": {
    "hash": "3b8cf3502c03cc30bf28ce722ffe1f4731af194e0f3ab2d0e374d11b9a1ef90b"
   }
  }
 },
 "nbformat": 4,
 "nbformat_minor": 2
}
