{
 "cells": [
  {
   "cell_type": "markdown",
   "metadata": {},
   "source": [
    "# 双指针算法\n",
    "1. 左右双指针算法：二分查找是左右双指针算法的应用\n",
    "2. 快慢双指针算法：使用两个指针，两个指针起始位置相同，但是在遍历的过程中前进速度不同（一般适用于链表求环、链表求中点、数组中元素替换与查找）\n",
    "3. 后序双指针算法：从后向前遍历，以避免改变或者覆盖之前的数据（一般用于数组重组等问题）"
   ]
  },
  {
   "cell_type": "markdown",
   "metadata": {},
   "source": [
    "#### 经典问题·三数之和\n",
    "> 给定一个包含n个整数的数组array，判断该数组是否存在3个元素x、y、z，使x+y+z=0。找出所有符合条件且不重复的三元组，不可以包含重复的三元组。"
   ]
  },
  {
   "cell_type": "code",
   "execution_count": 1,
   "metadata": {},
   "outputs": [],
   "source": [
    "#这种求和的题目，首先可以想到用三个for循环嵌套，暴力求解。这样做的缺点是时间复杂度很大\n",
    "def threeSum(self, array):\n",
    "    array.sort()\n",
    "    length = len(array)\n",
    "    res=[]\n",
    "    for i in range(length):\n",
    "        for j in range(i+1,length):\n",
    "            for k in range(j+1,length):\n",
    "                if array[i]+array[j]+array[k]==0 and [array[i]+array[j]+array[k]] not in res:\n",
    "                    res.append([array[i]+array[j]+array[k]])\n",
    "    return res"
   ]
  },
  {
   "cell_type": "code",
   "execution_count": null,
   "metadata": {},
   "outputs": [],
   "source": [
    "#双指针算法\n",
    "'''\n",
    "k:数组中当前元素的位置\n",
    "l:表示当前元素的下一个元素，初始值为k+1\n",
    "r:表示3个数中的第三个数字，其初始值为数组长度减一\n",
    "res:表示最终返回的结果，包含所有满足要求的三元组\n",
    "s:表示三数之和\n",
    "'''\n",
    "'''\n",
    "判断过程分为三种:\n",
    "当三数之和为0时，需要再次判断res数组中是否存在该三元组；然后让左指针向右移动，右指针向左移动；\n",
    "在移动过程中使用一个循环不断跳过重复元素，实现如下：\n",
    "while l<r and array[l]==array[l-1]:l+=1\n",
    "while l<r and array[r]==array[r+1]:r-=1\n",
    "当三数之和小于0时，说明应该调节最小的l，让和逼近0，因此让左指针向右移动\n",
    "当三数之和大于0时，应该调节最大的r，让和逼近0，因此让右指针向左移动\n",
    "另外还可以在每次for之初做两个判断：\n",
    "一是如果当前元素已经大于0，那就没有进行下去的必要了\n",
    "二是如果当前元素与当前元素之前的元素值相同，那么可以跳过本轮循环，这样可以提高效率\n",
    "'''"
   ]
  },
  {
   "cell_type": "code",
   "execution_count": null,
   "metadata": {},
   "outputs": [],
   "source": [
    "#代码实现如下：\n",
    "class Solution:\n",
    "    def threeSum(self, nums: List[int]) -> List[List[int]]:\n",
    "        nums.sort()\n",
    "        res=[]\n",
    "        n=len(nums)\n",
    "        for k in range(n-2):\n",
    "            if nums[k]>0:break\n",
    "            if k>0 and nums[k]==nums[k-1]:continue\n",
    "            l,r = k+1,n-1\n",
    "            while l<r:\n",
    "                s=nums[k]+nums[l]+nums[r]\n",
    "                if s<0:\n",
    "                    l+=1\n",
    "                    while l<r and nums[l]==nums[l-1]:l+=1#元素去重\n",
    "                if s>0:\n",
    "                    r-=1\n",
    "                    while l<r and nums[r]==nums[r+1]:r-=1\n",
    "                if s==0:#这里注意书上写的是“else:”，这样得到的结果不符，改成这个即可。\n",
    "                    res.append([nums[k],nums[l],nums[r]])\n",
    "                    l += 1\n",
    "                    r -= 1\n",
    "                    while l<r and nums[l]==nums[l-1]:l+=1\n",
    "                    while l<r and nums[r]==nums[r+1]:r-=1\n",
    "        return res"
   ]
  }
 ],
 "metadata": {
  "kernelspec": {
   "display_name": "Python 3.9.7",
   "language": "python",
   "name": "python3"
  },
  "language_info": {
   "codemirror_mode": {
    "name": "ipython",
    "version": 3
   },
   "file_extension": ".py",
   "mimetype": "text/x-python",
   "name": "python",
   "nbconvert_exporter": "python",
   "pygments_lexer": "ipython3",
   "version": "3.9.7"
  },
  "orig_nbformat": 4,
  "vscode": {
   "interpreter": {
    "hash": "5179d32cf6ec497baf3f8a3ef987cc77c5d2dc691fdde20a56316522f61a7323"
   }
  }
 },
 "nbformat": 4,
 "nbformat_minor": 2
}
