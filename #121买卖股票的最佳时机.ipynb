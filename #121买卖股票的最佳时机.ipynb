{
 "cells": [
  {
   "cell_type": "markdown",
   "metadata": {},
   "source": [
    "# 121.买卖股票的最佳时机"
   ]
  },
  {
   "cell_type": "markdown",
   "metadata": {},
   "source": [
    "> 给定一个数组 prices ，它的第 i 个元素 prices[i] 表示一支给定股票第 i 天的价格。\n",
    "\n",
    ">你只能选择 某一天 买入这只股票，并选择在 未来的某一个不同的日子 卖出该股票。设计一个算法来计算你所能获取的最大利润。\n",
    "\n",
    ">返回你可以从这笔交易中获取的最大利润。如果你不能获取任何利润，返回 0 。"
   ]
  },
  {
   "cell_type": "markdown",
   "metadata": {},
   "source": [
    "#### Solution."
   ]
  },
  {
   "cell_type": "code",
   "execution_count": null,
   "metadata": {},
   "outputs": [
    {
     "ename": "",
     "evalue": "",
     "output_type": "error",
     "traceback": [
      "\u001b[1;31mRunning cells with 'Python 3.10.5 64-bit (windows store)' requires ipykernel package.\n",
      "Run the following command to install 'ipykernel' into the Python environment. \n",
      "Command: 'c:/Users/TYPHOON/AppData/Local/Microsoft/WindowsApps/python3.10.exe -m pip install ipykernel -U --user --force-reinstall'"
     ]
    }
   ],
   "source": [
    "#这题双指针不管用\n",
    "#一次遍历\n",
    "class Solution:\n",
    "    def maxProfit(self, prices: List[int]) -> int:\n",
    "        minprice = float('inf')\n",
    "        maxprofit = 0\n",
    "        for price in prices:\n",
    "            minprice = min(minprice, price)\n",
    "            maxprofit = max(maxprofit, price - minprice)\n",
    "        return maxprofit\n"
   ]
  },
  {
   "cell_type": "code",
   "execution_count": null,
   "metadata": {},
   "outputs": [],
   "source": [
    "#动态规划\n",
    "class Solution:\n",
    "    def maxProfit(self, prices: List[int]) -> int:\n",
    "        n = len(prices)\n",
    "        if n == 0: return 0 # 边界条件\n",
    "        dp = [0] * n\n",
    "        minprice = prices[0] \n",
    "\n",
    "        for i in range(1, n):\n",
    "            minprice = min(minprice, prices[i])\n",
    "            dp[i] = max(dp[i - 1], prices[i] - minprice)\n",
    "\n",
    "        return dp[-1]"
   ]
  }
 ],
 "metadata": {
  "kernelspec": {
   "display_name": "Python 3.10.5 64-bit (windows store)",
   "language": "python",
   "name": "python3"
  },
  "language_info": {
   "name": "python",
   "version": "3.10.5"
  },
  "orig_nbformat": 4,
  "vscode": {
   "interpreter": {
    "hash": "3b8cf3502c03cc30bf28ce722ffe1f4731af194e0f3ab2d0e374d11b9a1ef90b"
   }
  }
 },
 "nbformat": 4,
 "nbformat_minor": 2
}
