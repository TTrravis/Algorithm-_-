{
 "cells": [
  {
   "cell_type": "markdown",
   "metadata": {},
   "source": [
    "# 217.存在重复元素 #\n",
    "> 给你一个整数数组 nums 。如果任一值在数组中出现 至少两次 ，返回 true ;如果数组中每个元素互不相同，返回 false."
   ]
  },
  {
   "cell_type": "markdown",
   "metadata": {},
   "source": [
    "### Idea."
   ]
  },
  {
   "cell_type": "code",
   "execution_count": 1,
   "metadata": {},
   "outputs": [],
   "source": [
    "#python的内置set()函数\n",
    "#set()函数即把一个sequence里的所有元素变为集合;\n",
    "#由于集合的互异性,使问题大大简化！\n",
    "class Solution:\n",
    "    def containsDuplicate(self, nums):\n",
    "        return len(nums) - len(set(nums)) > 0"
   ]
  },
  {
   "cell_type": "markdown",
   "metadata": {},
   "source": [
    "#### Wrong."
   ]
  },
  {
   "cell_type": "code",
   "execution_count": null,
   "metadata": {},
   "outputs": [],
   "source": [
    "#暴力穷举会导致超出时间限制，算法的时间复杂度很大。\n",
    "class Solution:\n",
    "    def containsDuplicate(self, nums: List[int]) -> bool:\n",
    "        for i in range(0, len(nums)):\n",
    "            if nums[i] in nums[i+1:]:\n",
    "                return True\n",
    "            elif i == len(nums) - 1:\n",
    "                return False\n",
    "#当nums很长的时候，运行时间也会很长，所以舍弃此方法。"
   ]
  }
 ],
 "metadata": {
  "kernelspec": {
   "display_name": "Python 3.9.7",
   "language": "python",
   "name": "python3"
  },
  "language_info": {
   "codemirror_mode": {
    "name": "ipython",
    "version": 3
   },
   "file_extension": ".py",
   "mimetype": "text/x-python",
   "name": "python",
   "nbconvert_exporter": "python",
   "pygments_lexer": "ipython3",
   "version": "3.9.7"
  },
  "orig_nbformat": 4,
  "vscode": {
   "interpreter": {
    "hash": "5179d32cf6ec497baf3f8a3ef987cc77c5d2dc691fdde20a56316522f61a7323"
   }
  }
 },
 "nbformat": 4,
 "nbformat_minor": 2
}
