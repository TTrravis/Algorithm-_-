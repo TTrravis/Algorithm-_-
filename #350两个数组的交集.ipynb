{
 "cells": [
  {
   "cell_type": "markdown",
   "metadata": {},
   "source": [
    "# 350.两个数组的交集Ⅱ"
   ]
  },
  {
   "cell_type": "markdown",
   "metadata": {},
   "source": [
    "> 给你两个整数数组nums1和nums2，请你以数组形式返回两数组的交集。返回结果中每个元素出现的次数，应与元素在两个数组中都出现的次数一致（如果出现次数不一致，则考虑取较小值）。可以不考虑输出结果的顺序。"
   ]
  },
  {
   "cell_type": "markdown",
   "metadata": {},
   "source": [
    "#### Solution."
   ]
  },
  {
   "cell_type": "code",
   "execution_count": null,
   "metadata": {},
   "outputs": [],
   "source": [
    "#双指针\n",
    "class Solution:\n",
    "    def intersect(self, nums1:[int], nums2[int]) ->[int]:\n",
    "        #先对两个数组进行排序（序列的顺序对双指针来说十分重要）\n",
    "        nums1.sort()\n",
    "        nums2.sort()\n",
    "        r = []\n",
    "        #双指针的初始条件\n",
    "        left,right = 0,0\n",
    "        #结束条件-->全部遍历完\n",
    "        while left < len(nums1) and right < len(nums2):\n",
    "            #这里其实可以不用while or来连接，与合并两个数组不一样\n",
    "            #双指针的移动条件\n",
    "            if nums1[left] == nums2[right]:\n",
    "                r.append(nums1[left])\n",
    "                left += 1\n",
    "                right += 1\n",
    "            elif nums1[left] < nums2[right]:\n",
    "                left += 1\n",
    "            else:\n",
    "                right += 1\n",
    "        return r"
   ]
  },
  {
   "cell_type": "markdown",
   "metadata": {},
   "source": [
    "#### Thoughts.\n",
    "双指针还有其他情况，以后会系统的归纳总结一波。"
   ]
  }
 ],
 "metadata": {
  "kernelspec": {
   "display_name": "Python 3.10.5 64-bit (windows store)",
   "language": "python",
   "name": "python3"
  },
  "language_info": {
   "name": "python",
   "version": "3.10.5"
  },
  "orig_nbformat": 4,
  "vscode": {
   "interpreter": {
    "hash": "3b8cf3502c03cc30bf28ce722ffe1f4731af194e0f3ab2d0e374d11b9a1ef90b"
   }
  }
 },
 "nbformat": 4,
 "nbformat_minor": 2
}
