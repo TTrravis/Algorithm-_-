{
 "cells": [
  {
   "cell_type": "markdown",
   "metadata": {},
   "source": [
    "# 1.两数之和\n",
    "> 给定一个整数数组nums 和一个整数目标值 target，请你在该数组中找出 和为目标值 target 的那两个整数，并返回它们的数组下标。\\\n",
    "> 你可以假设每种输入只会对应一个答案。但是，数组中同一个元素在答案里不能重复出现。\\\n",
    "> 你可以按任意顺序返回答案。"
   ]
  },
  {
   "cell_type": "markdown",
   "metadata": {},
   "source": [
    "#### **Solution.**"
   ]
  },
  {
   "cell_type": "code",
   "execution_count": null,
   "metadata": {},
   "outputs": [
    {
     "ename": "",
     "evalue": "",
     "output_type": "error",
     "traceback": [
      "\u001b[1;31mRunning cells with 'Python 3.10.5 64-bit (windows store)' requires ipykernel package.\n",
      "Run the following command to install 'ipykernel' into the Python environment. \n",
      "Command: 'c:/Users/TYPHOON/AppData/Local/Microsoft/WindowsApps/python3.10.exe -m pip install ipykernel -U --user --force-reinstall'"
     ]
    }
   ],
   "source": [
    "class Solution:\n",
    "    def twoSum(self, nums: List[int], target: int) -> List[int]:\n",
    "        lens = len(nums)\n",
    "        j=-1\n",
    "        for i in range(lens):\n",
    "            if (target - nums[i]) in nums:\n",
    "                if (nums.count(target - nums[i]) == 1)&(target - nums[i] == nums[i]):#如果num2=num1,且nums中只出现了一次，说明找到是num1本身。\n",
    "                    continue\n",
    "                else:\n",
    "                    j = nums.index(target - nums[i],i+1) #index(x,i+1)是从num1后的序列后找num2                \n",
    "                    break\n",
    "        if j>0:\n",
    "            return [i,j]\n",
    "        else:\n",
    "            return []"
   ]
  },
  {
   "cell_type": "markdown",
   "metadata": {},
   "source": [
    "#### **Wrong.**"
   ]
  },
  {
   "cell_type": "code",
   "execution_count": null,
   "metadata": {},
   "outputs": [],
   "source": [
    "class Solution:\n",
    "    def twoSum(self, nums: List[int], target: int) -> List[int]:\n",
    "        for num1 in nums:\n",
    "            a = nums.index(num1)\n",
    "            for i in nums[a+1:]:\n",
    "                if i+num1 == target:\n",
    "                    return nums.index(num1),nums[a+1:].index(i)+a+1\n",
    "                else:\n",
    "                    continue\n",
    "#代码量比较小，但是用时太长\n",
    "#用index()的一个问题是，当两个数值一样时，它只能返回第一个数值的index，导致输出错误."
   ]
  }
 ],
 "metadata": {
  "kernelspec": {
   "display_name": "Python 3.10.5 64-bit (windows store)",
   "language": "python",
   "name": "python3"
  },
  "language_info": {
   "name": "python",
   "version": "3.10.5"
  },
  "orig_nbformat": 4,
  "vscode": {
   "interpreter": {
    "hash": "3b8cf3502c03cc30bf28ce722ffe1f4731af194e0f3ab2d0e374d11b9a1ef90b"
   }
  }
 },
 "nbformat": 4,
 "nbformat_minor": 2
}
