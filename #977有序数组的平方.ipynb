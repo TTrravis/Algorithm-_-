{
 "cells": [
  {
   "cell_type": "markdown",
   "metadata": {},
   "source": [
    "# 977.有序数组的平方"
   ]
  },
  {
   "cell_type": "markdown",
   "metadata": {},
   "source": [
    "> 给你一个按 非递减顺序 排序的整数数组 nums，返回 每个数字的平方 组成的新数组，要求也按 非递减顺序 排序。"
   ]
  },
  {
   "cell_type": "markdown",
   "metadata": {},
   "source": [
    "#### Solution."
   ]
  },
  {
   "cell_type": "code",
   "execution_count": null,
   "metadata": {},
   "outputs": [
    {
     "ename": "",
     "evalue": "",
     "output_type": "error",
     "traceback": [
      "\u001b[1;31mRunning cells with 'Python 3.10.5 64-bit (windows store)' requires ipykernel package.\n",
      "Run the following command to install 'ipykernel' into the Python environment. \n",
      "Command: 'c:/Users/TYPHOON/AppData/Local/Microsoft/WindowsApps/python3.10.exe -m pip install ipykernel -U --user --force-reinstall'"
     ]
    }
   ],
   "source": [
    "#双指针，没啥好说的\n",
    "class Solution:\n",
    "    def sortedSquares(self, nums: List[int]) -> List[int]:\n",
    "        n = len(nums)\n",
    "        negative = -1\n",
    "        for i, num in enumerate(nums):\n",
    "            if num < 0:\n",
    "                negative = i\n",
    "            else:\n",
    "                break\n",
    "\n",
    "        ans = list()\n",
    "        i, j = negative, negative + 1\n",
    "        while i >= 0 or j < n:\n",
    "            if i < 0:\n",
    "                ans.append(nums[j] * nums[j])\n",
    "                j += 1\n",
    "            elif j == n:\n",
    "                ans.append(nums[i] * nums[i])\n",
    "                i -= 1\n",
    "            elif nums[i] * nums[i] < nums[j] * nums[j]:\n",
    "                ans.append(nums[i] * nums[i])\n",
    "                i -= 1\n",
    "            else:\n",
    "                ans.append(nums[j] * nums[j])\n",
    "                j += 1\n",
    "\n",
    "        return ans"
   ]
  }
 ],
 "metadata": {
  "kernelspec": {
   "display_name": "Python 3.10.5 64-bit (windows store)",
   "language": "python",
   "name": "python3"
  },
  "language_info": {
   "name": "python",
   "version": "3.10.5"
  },
  "orig_nbformat": 4,
  "vscode": {
   "interpreter": {
    "hash": "3b8cf3502c03cc30bf28ce722ffe1f4731af194e0f3ab2d0e374d11b9a1ef90b"
   }
  }
 },
 "nbformat": 4,
 "nbformat_minor": 2
}
