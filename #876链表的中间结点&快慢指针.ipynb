{
 "cells": [
  {
   "cell_type": "markdown",
   "metadata": {},
   "source": [
    "# 876.链表的中间结点\n",
    "> 给定一个头结点为 head 的非空单链表，返回链表的中间结点。\n",
    "\n",
    "> 如果有两个中间结点，则返回第二个中间结点。"
   ]
  },
  {
   "cell_type": "code",
   "execution_count": null,
   "metadata": {},
   "outputs": [],
   "source": [
    "#第一次做带链表的算法题，熟悉一下方法\n",
    "#链表的缺点在于不能通过下标访问对应元素，因此考虑对链表进行遍历，将遍历到的元素放入数组中\n",
    "class Solution:\n",
    "    def middleNode(self, head: ListNode) -> ListNode:\n",
    "        A = [head]\n",
    "        while A[-1].next:\n",
    "            A.append(A[-1].next)#遍历链表中元素并添加到A中\n",
    "        return A[len(A) // 2]\n",
    "#时间复杂度O(N),空间复杂度O(N)"
   ]
  },
  {
   "cell_type": "code",
   "execution_count": 1,
   "metadata": {},
   "outputs": [
    {
     "ename": "NameError",
     "evalue": "name 'ListNode' is not defined",
     "output_type": "error",
     "traceback": [
      "\u001b[1;31m---------------------------------------------------------------------------\u001b[0m",
      "\u001b[1;31mNameError\u001b[0m                                 Traceback (most recent call last)",
      "\u001b[1;32mUntitled-1.ipynb Cell 3\u001b[0m in \u001b[0;36m<module>\u001b[1;34m\u001b[0m\n\u001b[0;32m      <a href='vscode-notebook-cell:Untitled-1.ipynb?jupyter-notebook#ch0000002untitled?line=0'>1</a>\u001b[0m \u001b[39m#还可以对方法一进行空间优化，省去数组A\u001b[39;00m\n\u001b[0;32m      <a href='vscode-notebook-cell:Untitled-1.ipynb?jupyter-notebook#ch0000002untitled?line=1'>2</a>\u001b[0m \u001b[39m#对链表进行两次遍历。第一次遍历统计链表的元素个数N\u001b[39;00m\n\u001b[0;32m      <a href='vscode-notebook-cell:Untitled-1.ipynb?jupyter-notebook#ch0000002untitled?line=2'>3</a>\u001b[0m \u001b[39m#第二次遍历，遍历到第N/2个元素时，返回该元素（链表的首节点为第0个元素）\u001b[39;00m\n\u001b[1;32m----> <a href='vscode-notebook-cell:Untitled-1.ipynb?jupyter-notebook#ch0000002untitled?line=3'>4</a>\u001b[0m \u001b[39mclass\u001b[39;00m \u001b[39mSolution\u001b[39;00m:\n\u001b[0;32m      <a href='vscode-notebook-cell:Untitled-1.ipynb?jupyter-notebook#ch0000002untitled?line=4'>5</a>\u001b[0m     \u001b[39mdef\u001b[39;00m \u001b[39mmiddleNode\u001b[39m(\u001b[39mself\u001b[39m,head:ListNode) \u001b[39m-\u001b[39m\u001b[39m>\u001b[39m ListNode:\n\u001b[0;32m      <a href='vscode-notebook-cell:Untitled-1.ipynb?jupyter-notebook#ch0000002untitled?line=5'>6</a>\u001b[0m         n, cur\u001b[39m=\u001b[39m\u001b[39m0\u001b[39m, head\n",
      "\u001b[1;32mUntitled-1.ipynb Cell 3\u001b[0m in \u001b[0;36mSolution\u001b[1;34m()\u001b[0m\n\u001b[0;32m      <a href='vscode-notebook-cell:Untitled-1.ipynb?jupyter-notebook#ch0000002untitled?line=3'>4</a>\u001b[0m \u001b[39mclass\u001b[39;00m \u001b[39mSolution\u001b[39;00m:\n\u001b[1;32m----> <a href='vscode-notebook-cell:Untitled-1.ipynb?jupyter-notebook#ch0000002untitled?line=4'>5</a>\u001b[0m     \u001b[39mdef\u001b[39;00m \u001b[39mmiddleNode\u001b[39m(\u001b[39mself\u001b[39m,head:ListNode) \u001b[39m-\u001b[39m\u001b[39m>\u001b[39m ListNode:\n\u001b[0;32m      <a href='vscode-notebook-cell:Untitled-1.ipynb?jupyter-notebook#ch0000002untitled?line=5'>6</a>\u001b[0m         n, cur\u001b[39m=\u001b[39m\u001b[39m0\u001b[39m, head\n\u001b[0;32m      <a href='vscode-notebook-cell:Untitled-1.ipynb?jupyter-notebook#ch0000002untitled?line=6'>7</a>\u001b[0m         \u001b[39mwhile\u001b[39;00m cur:\n",
      "\u001b[1;31mNameError\u001b[0m: name 'ListNode' is not defined"
     ]
    }
   ],
   "source": [
    "#还可以对方法一进行空间优化，省去数组A\n",
    "#对链表进行两次遍历。第一次遍历统计链表的元素个数N\n",
    "#第二次遍历，遍历到第N/2个元素时，返回该元素（链表的首节点为第0个元素）\n",
    "class Solution:\n",
    "    def middleNode(self,head:ListNode) -> ListNode:\n",
    "        n, cur=0, head\n",
    "        while cur:\n",
    "            n+=1\n",
    "            cur=cur.next\n",
    "        k,cur=0,head\n",
    "        while k<n//2:\n",
    "            k+=1\n",
    "            cur=cur.next\n",
    "        return cur\n",
    "        #时间复杂度O(N),空间复杂度O(1)"
   ]
  },
  {
   "cell_type": "code",
   "execution_count": null,
   "metadata": {},
   "outputs": [],
   "source": [
    "#快慢指针法\n",
    "#用两个指针slow和fast一起遍历链表：fast一次走两步，slow一次走一步。\n",
    "#当fast到达链表末尾时，slow位于中间\n",
    "class Solution:\n",
    "    def middleNode(self, head:ListNode) ->ListNode:\n",
    "        slow=fast=head\n",
    "        while fast and fast.next:#意思是fast和fast下一个位置都不为空的时候\n",
    "            slow=slow.next\n",
    "            fast=fast.next.next\n",
    "        return slow\n",
    "#时间复杂度O(N),空间复杂度O(1)"
   ]
  }
 ],
 "metadata": {
  "kernelspec": {
   "display_name": "Python 3.10.5 64-bit (windows store)",
   "language": "python",
   "name": "python3"
  },
  "language_info": {
   "codemirror_mode": {
    "name": "ipython",
    "version": 3
   },
   "file_extension": ".py",
   "mimetype": "text/x-python",
   "name": "python",
   "nbconvert_exporter": "python",
   "pygments_lexer": "ipython3",
   "version": "3.10.5"
  },
  "orig_nbformat": 4,
  "vscode": {
   "interpreter": {
    "hash": "3b8cf3502c03cc30bf28ce722ffe1f4731af194e0f3ab2d0e374d11b9a1ef90b"
   }
  }
 },
 "nbformat": 4,
 "nbformat_minor": 2
}
