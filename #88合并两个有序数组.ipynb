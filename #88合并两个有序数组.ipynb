{
 "cells": [
  {
   "cell_type": "markdown",
   "metadata": {},
   "source": [
    "# 88.合并两个有序数组"
   ]
  },
  {
   "cell_type": "markdown",
   "metadata": {},
   "source": [
    "> 给你两个按非递减顺序排列的整数数组nums1 和 nums2，另有两个整数 m 和 n ，分别表示 nums1 和 nums2 中的元素数目。\n",
    "> 请你 合并 nums2 到 nums1 中，使合并后的数组同样按 非递减顺序 排列。\n",
    "> 注意：最终，合并后数组不应由函数返回，而是存储在数组 nums1 中。为了应对这种情况，nums1 的初始长度为 m + n，其中前 m 个元素表示应合并的元素，后 n 个元素为 0 ，应忽略。nums2 的长度为 n 。"
   ]
  },
  {
   "cell_type": "markdown",
   "metadata": {},
   "source": [
    "#### Solution."
   ]
  },
  {
   "cell_type": "code",
   "execution_count": null,
   "metadata": {},
   "outputs": [],
   "source": [
    "# 没啥好说的，看到有序整数数组直接就用双指针来写吧\n",
    "class Solution:\n",
    "    def merge(self, nums1: [int], m:int, nums2:[int],n:int) -> None:\n",
    "        \"\"\"\n",
    "        Do not return anything, modify nums1 in-place instead.\n",
    "        \"\"\"\n",
    "        #初始位置是尾部\n",
    "        k = m + n\n",
    "        n1Index = m - 1\n",
    "        n2Index = n - 1\n",
    "        for i in range(k-1,-1,-1):\n",
    "            if n1Index < 0:#说明n1已经取完，剩下的空直接填n2\n",
    "                nums1[i] = nums2[n2Index]\n",
    "                n2Index -= 1\n",
    "            elif n2Index < 0:#说明n2已经取完，n1就不需要变动了\n",
    "                break\n",
    "            elif nums1[n1Index]>nums2[n2Index]:\n",
    "                nums1[i] = nums1[n1Index]\n",
    "                n1Index -= 1\n",
    "            else:\n",
    "                nums1[i] = nums2[n2Index]\n",
    "                n2Index -= 1"
   ]
  },
  {
   "cell_type": "markdown",
   "metadata": {},
   "source": [
    "#### Thoughts.\n",
    "每天多看几遍才能吃透~"
   ]
  }
 ],
 "metadata": {
  "kernelspec": {
   "display_name": "Python 3.10.5 64-bit (windows store)",
   "language": "python",
   "name": "python3"
  },
  "language_info": {
   "name": "python",
   "version": "3.10.5"
  },
  "orig_nbformat": 4,
  "vscode": {
   "interpreter": {
    "hash": "3b8cf3502c03cc30bf28ce722ffe1f4731af194e0f3ab2d0e374d11b9a1ef90b"
   }
  }
 },
 "nbformat": 4,
 "nbformat_minor": 2
}
