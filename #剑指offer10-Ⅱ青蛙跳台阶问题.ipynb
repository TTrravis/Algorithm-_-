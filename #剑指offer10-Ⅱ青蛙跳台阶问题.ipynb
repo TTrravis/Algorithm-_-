{
 "cells": [
  {
   "cell_type": "markdown",
   "metadata": {},
   "source": [
    "# 剑指offer10-Ⅱ青蛙跳台阶问题（一维动态规划问题）"
   ]
  },
  {
   "cell_type": "markdown",
   "metadata": {},
   "source": [
    "> 一只青蛙一次可以跳上1级台阶，也可以跳上2级台阶。求该青蛙跳上一个 n 级的台阶总共有多少种跳法。\n",
    "\n",
    "> 答案需要取模 1e9+7（1000000007），如计算初始结果为：1000000008，请返回 1。\n"
   ]
  },
  {
   "cell_type": "code",
   "execution_count": null,
   "metadata": {},
   "outputs": [],
   "source": [
    "class Solution:\n",
    "    def numWays(self, n: int) -> int:\n",
    "        nums=[1,1,2]#初始状态具体得看题目要求，这题n=0的时候要求输出1.\n",
    "        mod = 10**9 + 7\n",
    "        if n < 3:\n",
    "            return nums[n]\n",
    "        else:\n",
    "            for i in range(3,n+1):\n",
    "                nums.append(nums[i-1]+nums[i-2])\n",
    "            return nums[n] % mod"
   ]
  }
 ],
 "metadata": {
  "kernelspec": {
   "display_name": "Python 3.10.5 64-bit (windows store)",
   "language": "python",
   "name": "python3"
  },
  "language_info": {
   "name": "python",
   "version": "3.10.5"
  },
  "orig_nbformat": 4,
  "vscode": {
   "interpreter": {
    "hash": "3b8cf3502c03cc30bf28ce722ffe1f4731af194e0f3ab2d0e374d11b9a1ef90b"
   }
  }
 },
 "nbformat": 4,
 "nbformat_minor": 2
}
