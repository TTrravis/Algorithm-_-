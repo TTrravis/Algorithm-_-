{
 "cells": [
  {
   "cell_type": "markdown",
   "metadata": {},
   "source": [
    "# 557.反转字符串中的单词Ⅲ\n",
    "> 给定一个字符串 s ，你需要反转字符串中每个单词的字符顺序，同时仍保留空格和单词的初始顺序。"
   ]
  },
  {
   "cell_type": "code",
   "execution_count": null,
   "metadata": {},
   "outputs": [],
   "source": [
    "#此题要注意：python中字符串是一个*不可变类型*，想要改变python字符串中的某个字符，只能对字符串重新赋值。\n",
    "#我的解法：双指针（此解法在空间复杂度与时间复杂度上的表现都不出色）\n",
    "class Solution:\n",
    "    def reverseWords(self, s: str) -> str:\n",
    "        list=[]\n",
    "        for i in s:\n",
    "            list.append(i)\n",
    "        list.append(' ')\n",
    "        n=len(list)\n",
    "        l=r=0\n",
    "        while r<n:\n",
    "            if list[r]==' ':\n",
    "                a = l\n",
    "                b = r-1\n",
    "                while a<b:\n",
    "                    list[a],list[b]=list[b],list[a]\n",
    "                    a+=1\n",
    "                    b-=1\n",
    "                l=r+1\n",
    "                r+=1\n",
    "            else:\n",
    "                r+=1\n",
    "        list=list[0:n-1]\n",
    "        return ''.join(k for k in list)"
   ]
  },
  {
   "cell_type": "code",
   "execution_count": null,
   "metadata": {},
   "outputs": [],
   "source": [
    "#别人的做法（没用双指针）\n",
    "class Solution(object):\n",
    "    def reverseWords(self, s):\n",
    "        return \" \".join(word[::-1] for word in s.split(\" \"))\n",
    "#列表切片再反转"
   ]
  }
 ],
 "metadata": {
  "kernelspec": {
   "display_name": "Python 3.10.5 64-bit (windows store)",
   "language": "python",
   "name": "python3"
  },
  "language_info": {
   "name": "python",
   "version": "3.10.5"
  },
  "orig_nbformat": 4,
  "vscode": {
   "interpreter": {
    "hash": "3b8cf3502c03cc30bf28ce722ffe1f4731af194e0f3ab2d0e374d11b9a1ef90b"
   }
  }
 },
 "nbformat": 4,
 "nbformat_minor": 2
}
