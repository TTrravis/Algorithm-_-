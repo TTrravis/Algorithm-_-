{
 "cells": [
  {
   "cell_type": "markdown",
   "metadata": {},
   "source": [
    "# 53.最大子数组和\n",
    "> 给你一个整数数组nums，请你找出一个具有最大和的连续子数组（子数组最少包含一个元素），返回其最大和。\n",
    "> 子数组是数组中的一个连续部分。"
   ]
  },
  {
   "cell_type": "markdown",
   "metadata": {},
   "source": [
    "#### Solution."
   ]
  },
  {
   "cell_type": "code",
   "execution_count": null,
   "metadata": {},
   "outputs": [],
   "source": [
    "#暴力求解\n",
    "#基本思路就是遍历一遍，用两个变量，一个记录最大的和，一个记录当前的和。\n",
    "class Solution:\n",
    "    def maxSubArray(self, nums: List[int]) -> int:\n",
    "        tmp = nums[0]\n",
    "        max_ = tmp\n",
    "        n = len(nums)\n",
    "        for i in range(1, n):\n",
    "            #当当前序列加上此时的元素的值大于tmp的值，说明最大序列和可能出现在后续序列中，记录此时的最大值\n",
    "            if tmp + nums[i] > nums[i]:\n",
    "                max_ = max(max_, tmp+nums[i])\n",
    "                tmp = tmp + nums[i]\n",
    "            else:\n",
    "                #当tmp（当前和）小于下一个元素时，当前最长序列到此为止。以该元素为起点继续找最大子序列，\n",
    "                #并记录此时的最大值\n",
    "                max_=max(max_, tmp, tmp+nums[i], nums[i])\n",
    "                tmp = nums[i]\n",
    "        return max_"
   ]
  },
  {
   "cell_type": "code",
   "execution_count": null,
   "metadata": {},
   "outputs": [],
   "source": [
    "#分而治之\n",
    "#基本思路就是，它的最大子序和要么在左半边，要么在右半边，要么穿过中间，对于左右边的序列，情况一样，可以用递归处理。中间部分可以直接计算。\n",
    "#时间复杂度O(nlogn)\n",
    "class Solution:\n",
    "    def maxSubArray(self, nums:List[int]) -> int:\n",
    "        n = len(nums)\n",
    "        #递归终止条件\n",
    "        if n == 1:\n",
    "            return nums[0]\n",
    "        else:\n",
    "            #递归计算左半边最大子序和\n",
    "            max_left = self.maxSubArray(nums[0:len(nums)//2])#[0:len(nums)//2]代表左半边\n",
    "            max_right = self.maxSubArray(nums[len(nums)//2:len(nums)])\n",
    "\n",
    "        #计算中间的最大子序和，从右到左计算左边的最大子序和，从左到右计算右边的最大子序和，再相加\n",
    "        max_l = nums[len(nums)//2 - 1]\n",
    "        tmp = 0\n",
    "        for i in range(len(nums) // 2 - 1, -1, -1):\n",
    "            tmp += nums[i]\n",
    "            max_l = max(tmp, max_l)\n",
    "        max_r = nums[len(nums)//2]\n",
    "        tmp = 0\n",
    "        for i in range(len(nums)//2, len(nums)):\n",
    "            tmp += nums[i]\n",
    "            max_r = max(tmp, max_r)\n",
    "        #返回三个中的最大值\n",
    "        return max(max_right, max_left, max_l + max_r)"
   ]
  },
  {
   "cell_type": "code",
   "execution_count": null,
   "metadata": {},
   "outputs": [],
   "source": [
    "#动态规划\n",
    "#“动态规划为了找到不同子序列之间的递推关系，恰恰是以子序列的结束点为基准的，这点开阔了我们的思路。”"
   ]
  },
  {
   "cell_type": "markdown",
   "metadata": {},
   "source": [
    "[动态规划详解](https://leetcode.cn/problems/maximum-subarray/solution/dong-tai-gui-hua-fen-zhi-fa-python-dai-ma-java-dai/)"
   ]
  },
  {
   "cell_type": "markdown",
   "metadata": {},
   "source": [
    "#### Thoughts."
   ]
  },
  {
   "cell_type": "markdown",
   "metadata": {},
   "source": [
    "此题有多种解法：暴力穷举、贪心算法、动态规划、分而治之（以后再补充）"
   ]
  }
 ],
 "metadata": {
  "kernelspec": {
   "display_name": "Python 3.10.5 64-bit (windows store)",
   "language": "python",
   "name": "python3"
  },
  "language_info": {
   "name": "python",
   "version": "3.10.5"
  },
  "orig_nbformat": 4,
  "vscode": {
   "interpreter": {
    "hash": "3b8cf3502c03cc30bf28ce722ffe1f4731af194e0f3ab2d0e374d11b9a1ef90b"
   }
  }
 },
 "nbformat": 4,
 "nbformat_minor": 2
}
