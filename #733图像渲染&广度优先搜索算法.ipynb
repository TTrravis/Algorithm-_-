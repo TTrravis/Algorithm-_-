{
 "cells": [
  {
   "cell_type": "markdown",
   "metadata": {},
   "source": [
    "# 733.图像渲染\n",
    "> 有一幅以 m x n 的二维整数数组表示的图画 image ，其中 image[i][j] 表示该图画的像素值大小。\n",
    "\n",
    "> 你也被给予三个整数 sr ,  sc 和 newColor 。你应该从像素 image[sr][sc] 开始对图像进行 上色填充 。\n",
    "\n",
    "> 为了完成 上色工作 ，从初始像素开始，记录初始坐标的 上下左右四个方向上 像素值与初始坐标相同的相连像素点，接着再记录这四个方向上符合条件的像素点与他们对应 四个方向上 像素值与初始坐标相同的相连像素点，……，重复该过程。将所有有记录的像素点的颜色值改为 newColor 。\n",
    "\n",
    "> 最后返回 经过上色渲染后的图像 。\n"
   ]
  },
  {
   "cell_type": "code",
   "execution_count": 1,
   "metadata": {},
   "outputs": [
    {
     "ename": "NameError",
     "evalue": "name 'List' is not defined",
     "output_type": "error",
     "traceback": [
      "\u001b[1;31m---------------------------------------------------------------------------\u001b[0m",
      "\u001b[1;31mNameError\u001b[0m                                 Traceback (most recent call last)",
      "\u001b[1;32mUntitled-1.ipynb Cell 2\u001b[0m in \u001b[0;36m<module>\u001b[1;34m\u001b[0m\n\u001b[0;32m      <a href='vscode-notebook-cell:Untitled-1.ipynb?jupyter-notebook#ch0000000untitled?line=0'>1</a>\u001b[0m \u001b[39m#广度优先算法\u001b[39;00m\n\u001b[0;32m      <a href='vscode-notebook-cell:Untitled-1.ipynb?jupyter-notebook#ch0000000untitled?line=1'>2</a>\u001b[0m \u001b[39mfrom\u001b[39;00m \u001b[39mqueue\u001b[39;00m \u001b[39mimport\u001b[39;00m Queue\n\u001b[1;32m----> <a href='vscode-notebook-cell:Untitled-1.ipynb?jupyter-notebook#ch0000000untitled?line=2'>3</a>\u001b[0m \u001b[39mclass\u001b[39;00m \u001b[39mSolution\u001b[39;00m:\n\u001b[0;32m      <a href='vscode-notebook-cell:Untitled-1.ipynb?jupyter-notebook#ch0000000untitled?line=3'>4</a>\u001b[0m     \u001b[39mdef\u001b[39;00m \u001b[39mfloodFill\u001b[39m(\u001b[39mself\u001b[39m, image: List[List[\u001b[39mint\u001b[39m]], sr: \u001b[39mint\u001b[39m, sc: \u001b[39mint\u001b[39m, newColor: \u001b[39mint\u001b[39m) \u001b[39m-\u001b[39m\u001b[39m>\u001b[39m List[List[\u001b[39mint\u001b[39m]]:\n\u001b[0;32m      <a href='vscode-notebook-cell:Untitled-1.ipynb?jupyter-notebook#ch0000000untitled?line=4'>5</a>\u001b[0m         \u001b[39m# 起始颜色和目标颜色相同，则直接返回原图\u001b[39;00m\n\u001b[0;32m      <a href='vscode-notebook-cell:Untitled-1.ipynb?jupyter-notebook#ch0000000untitled?line=5'>6</a>\u001b[0m         \u001b[39mif\u001b[39;00m newColor \u001b[39m==\u001b[39m image[sr][sc]:\n",
      "\u001b[1;32mUntitled-1.ipynb Cell 2\u001b[0m in \u001b[0;36mSolution\u001b[1;34m()\u001b[0m\n\u001b[0;32m      <a href='vscode-notebook-cell:Untitled-1.ipynb?jupyter-notebook#ch0000000untitled?line=2'>3</a>\u001b[0m \u001b[39mclass\u001b[39;00m \u001b[39mSolution\u001b[39;00m:\n\u001b[1;32m----> <a href='vscode-notebook-cell:Untitled-1.ipynb?jupyter-notebook#ch0000000untitled?line=3'>4</a>\u001b[0m     \u001b[39mdef\u001b[39;00m \u001b[39mfloodFill\u001b[39m(\u001b[39mself\u001b[39m, image: List[List[\u001b[39mint\u001b[39m]], sr: \u001b[39mint\u001b[39m, sc: \u001b[39mint\u001b[39m, newColor: \u001b[39mint\u001b[39m) \u001b[39m-\u001b[39m\u001b[39m>\u001b[39m List[List[\u001b[39mint\u001b[39m]]:\n\u001b[0;32m      <a href='vscode-notebook-cell:Untitled-1.ipynb?jupyter-notebook#ch0000000untitled?line=4'>5</a>\u001b[0m         \u001b[39m# 起始颜色和目标颜色相同，则直接返回原图\u001b[39;00m\n\u001b[0;32m      <a href='vscode-notebook-cell:Untitled-1.ipynb?jupyter-notebook#ch0000000untitled?line=5'>6</a>\u001b[0m         \u001b[39mif\u001b[39;00m newColor \u001b[39m==\u001b[39m image[sr][sc]:\n\u001b[0;32m      <a href='vscode-notebook-cell:Untitled-1.ipynb?jupyter-notebook#ch0000000untitled?line=6'>7</a>\u001b[0m             \u001b[39mreturn\u001b[39;00m image\n",
      "\u001b[1;31mNameError\u001b[0m: name 'List' is not defined"
     ]
    }
   ],
   "source": [
    "#广度优先算法\n",
    "from queue import Queue\n",
    "class Solution:\n",
    "    def floodFill(self, image: List[List[int]], sr: int, sc: int, newColor: int) -> List[List[int]]:\n",
    "        # 起始颜色和目标颜色相同，则直接返回原图\n",
    "        if newColor == image[sr][sc]:\n",
    "            return image\n",
    "        # 设置四个方向偏移量，一种常见的省事儿技巧\n",
    "        directions = {(1, 0), (-1, 0), (0, 1), (0, -1)}\n",
    "        # 构造一个队列，先把起始点放进去\n",
    "        que = Queue()\n",
    "        que.put((sr, sc))\n",
    "        # 记录初始颜色\n",
    "        originalcolor = image[sr][sc]\n",
    "        # 当队列不为空                              \n",
    "        while not que.empty():\n",
    "            # 取出队列的点并染色\n",
    "            point = que.get()\n",
    "            image[point[0]][point[1]] = newColor\n",
    "            # 遍历四个方向\n",
    "            for direction in directions:\n",
    "                # 新点是(new_i,new_j)\n",
    "                new_i = point[0] + direction[0]\n",
    "                new_j = point[1] + direction[1]\n",
    "                # 如果这个点在定义域内并且它和原来的颜色相同\n",
    "                if 0 <= new_i < len(image) and 0 <= new_j < len(image[0]) and image[new_i][new_j] == originalcolor:\n",
    "                    que.put((new_i, new_j))\n",
    "        return image"
   ]
  }
 ],
 "metadata": {
  "kernelspec": {
   "display_name": "Python 3.10.5 64-bit (windows store)",
   "language": "python",
   "name": "python3"
  },
  "language_info": {
   "codemirror_mode": {
    "name": "ipython",
    "version": 3
   },
   "file_extension": ".py",
   "mimetype": "text/x-python",
   "name": "python",
   "nbconvert_exporter": "python",
   "pygments_lexer": "ipython3",
   "version": "3.10.5"
  },
  "orig_nbformat": 4,
  "vscode": {
   "interpreter": {
    "hash": "3b8cf3502c03cc30bf28ce722ffe1f4731af194e0f3ab2d0e374d11b9a1ef90b"
   }
  }
 },
 "nbformat": 4,
 "nbformat_minor": 2
}
