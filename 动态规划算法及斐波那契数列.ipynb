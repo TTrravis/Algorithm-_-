{
 "cells": [
  {
   "cell_type": "markdown",
   "metadata": {},
   "source": [
    "# 动态规划算法\n",
    "## 动态规划算法四要素\n",
    "1. 最优子结构\n",
    "对于一个问题而言，只有规模比该问题小、其他均与该问题一致的问题才可称为子问题\\\n",
    "子问题的决策不会对规模等大的问题造成影响，称为无后效性\\\n",
    "当一个问题的最优解必然包含其子问题的最优解时，称该问题具有最优子结构。\\\n",
    "例子：爬楼梯问题\\\n",
    "假如每次只能上一个台阶或者两个台阶，求爬n层楼梯共有多少种方式？如果我们知道爬n-1层、n-2层楼分别有多少种方式，就可以知道爬n层楼梯有多少种方式。\n",
    "2. 重叠子问题\n",
    "如果采用递归算法会导致一些不必要的重复计算，这个时候采用动态规划就是很有必要的。\n",
    "3. 状态与状态转移方程\n",
    "状态就是子问题的解，找到状态转移方程就是找到了子问题之间的递推关系，由此就可以自底向上地从子问题推出原始问题的解。\n",
    "**动态规划算法可以实现只解决每个子问题一次就得出原始问题的答案**\n",
    "4. 边界条件\n",
    "即程序停止的条件。\n",
    "## 动态规划算法的优点\n",
    "对于斐波那契数列递推关系式，若要计算fib(5)，如果用递归算法，就要先计算fib(4)和fib(3)，造成很多的重复计算，导致时间复杂度极大"
   ]
  },
  {
   "cell_type": "code",
   "execution_count": 2,
   "metadata": {},
   "outputs": [],
   "source": [
    "def fib(n):#定义求斐波那契函数名为fib\n",
    "    if n<1:\n",
    "        return 0\n",
    "    if n<3:\n",
    "        return 1\n",
    "    return fib(n-1)+fib(n-2)"
   ]
  },
  {
   "cell_type": "code",
   "execution_count": 3,
   "metadata": {},
   "outputs": [],
   "source": [
    "#动态规划算法能够避免重复计算以降低时间复杂度，但由于要保存子问题解的数据，空间复杂度会相对更高\n",
    "#时间复杂度为O(n)\n",
    "def fib(n):\n",
    "    I=[0,1,1]\n",
    "    for i in range(3,n+1):\n",
    "        I.append(I[n-1]+I[n-2])\n",
    "    return I[n]"
   ]
  },
  {
   "cell_type": "code",
   "execution_count": 7,
   "metadata": {},
   "outputs": [],
   "source": [
    "#进一步优化，可以不保存n以前的斐波那契数，用三个变量保存到当前计算到的斐波那契数，实现空间复杂度为O(1)，时间复杂度为O(n)\n",
    "def fib(n):\n",
    "    a=b=1\n",
    "    for i in range(3,n+1):\n",
    "        c=a+b\n",
    "        a=b\n",
    "        b=c\n",
    "    return c"
   ]
  },
  {
   "cell_type": "markdown",
   "metadata": {},
   "source": [
    "**区别**\n",
    "递归算法是自顶而下，动态规划是自底而上。"
   ]
  }
 ],
 "metadata": {
  "kernelspec": {
   "display_name": "Python 3.10.5 64-bit (windows store)",
   "language": "python",
   "name": "python3"
  },
  "language_info": {
   "codemirror_mode": {
    "name": "ipython",
    "version": 3
   },
   "file_extension": ".py",
   "mimetype": "text/x-python",
   "name": "python",
   "nbconvert_exporter": "python",
   "pygments_lexer": "ipython3",
   "version": "3.10.5"
  },
  "orig_nbformat": 4,
  "vscode": {
   "interpreter": {
    "hash": "3b8cf3502c03cc30bf28ce722ffe1f4731af194e0f3ab2d0e374d11b9a1ef90b"
   }
  }
 },
 "nbformat": 4,
 "nbformat_minor": 2
}
